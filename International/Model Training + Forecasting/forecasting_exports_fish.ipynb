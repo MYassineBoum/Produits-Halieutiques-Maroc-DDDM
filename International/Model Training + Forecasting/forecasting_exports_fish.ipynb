{
  "nbformat": 4,
  "nbformat_minor": 0,
  "metadata": {
    "colab": {
      "provenance": []
    },
    "kernelspec": {
      "name": "python3",
      "display_name": "Python 3"
    },
    "language_info": {
      "name": "python"
    }
  },
  "cells": [
    {
      "cell_type": "code",
      "execution_count": 302,
      "metadata": {
        "id": "W8BC1ushEOYH"
      },
      "outputs": [],
      "source": [
        "import pandas_datareader.data as web\n",
        "import datetime\n",
        "import pandas as pd\n",
        "import matplotlib.pyplot as plt\n",
        "from sklearn.preprocessing import MinMaxScaler"
      ]
    },
    {
      "cell_type": "code",
      "source": [
        "df_final = pd.read_csv(\"processed_moroccan_exports_fish.csv\")"
      ],
      "metadata": {
        "id": "A9DftNoYlLke"
      },
      "execution_count": 303,
      "outputs": []
    },
    {
      "cell_type": "code",
      "source": [
        "df_final.set_index('Year', inplace=True) # Définir les années comme index"
      ],
      "metadata": {
        "id": "URKK1NGtl5b_"
      },
      "execution_count": 304,
      "outputs": []
    },
    {
      "cell_type": "code",
      "source": [
        "df_final.head()"
      ],
      "metadata": {
        "colab": {
          "base_uri": "https://localhost:8080/",
          "height": 237
        },
        "id": "Y7D6zCf4llN0",
        "outputId": "65698b9e-d538-49e2-a596-cffe4c2db38b"
      },
      "execution_count": 305,
      "outputs": [
        {
          "output_type": "execute_result",
          "data": {
            "text/plain": [
              "                                          Product label  Exported Value\n",
              "Year                                                                   \n",
              "2003  Fish and crustaceans, molluscs and other aquat...        0.125295\n",
              "2004  Fish and crustaceans, molluscs and other aquat...        0.000000\n",
              "2005  Fish and crustaceans, molluscs and other aquat...        0.137429\n",
              "2006  Fish and crustaceans, molluscs and other aquat...        0.197313\n",
              "2007  Fish and crustaceans, molluscs and other aquat...        0.324361"
            ],
            "text/html": [
              "\n",
              "  <div id=\"df-914d807d-cfab-4383-97d8-d29e7186449b\" class=\"colab-df-container\">\n",
              "    <div>\n",
              "<style scoped>\n",
              "    .dataframe tbody tr th:only-of-type {\n",
              "        vertical-align: middle;\n",
              "    }\n",
              "\n",
              "    .dataframe tbody tr th {\n",
              "        vertical-align: top;\n",
              "    }\n",
              "\n",
              "    .dataframe thead th {\n",
              "        text-align: right;\n",
              "    }\n",
              "</style>\n",
              "<table border=\"1\" class=\"dataframe\">\n",
              "  <thead>\n",
              "    <tr style=\"text-align: right;\">\n",
              "      <th></th>\n",
              "      <th>Product label</th>\n",
              "      <th>Exported Value</th>\n",
              "    </tr>\n",
              "    <tr>\n",
              "      <th>Year</th>\n",
              "      <th></th>\n",
              "      <th></th>\n",
              "    </tr>\n",
              "  </thead>\n",
              "  <tbody>\n",
              "    <tr>\n",
              "      <th>2003</th>\n",
              "      <td>Fish and crustaceans, molluscs and other aquat...</td>\n",
              "      <td>0.125295</td>\n",
              "    </tr>\n",
              "    <tr>\n",
              "      <th>2004</th>\n",
              "      <td>Fish and crustaceans, molluscs and other aquat...</td>\n",
              "      <td>0.000000</td>\n",
              "    </tr>\n",
              "    <tr>\n",
              "      <th>2005</th>\n",
              "      <td>Fish and crustaceans, molluscs and other aquat...</td>\n",
              "      <td>0.137429</td>\n",
              "    </tr>\n",
              "    <tr>\n",
              "      <th>2006</th>\n",
              "      <td>Fish and crustaceans, molluscs and other aquat...</td>\n",
              "      <td>0.197313</td>\n",
              "    </tr>\n",
              "    <tr>\n",
              "      <th>2007</th>\n",
              "      <td>Fish and crustaceans, molluscs and other aquat...</td>\n",
              "      <td>0.324361</td>\n",
              "    </tr>\n",
              "  </tbody>\n",
              "</table>\n",
              "</div>\n",
              "    <div class=\"colab-df-buttons\">\n",
              "\n",
              "  <div class=\"colab-df-container\">\n",
              "    <button class=\"colab-df-convert\" onclick=\"convertToInteractive('df-914d807d-cfab-4383-97d8-d29e7186449b')\"\n",
              "            title=\"Convert this dataframe to an interactive table.\"\n",
              "            style=\"display:none;\">\n",
              "\n",
              "  <svg xmlns=\"http://www.w3.org/2000/svg\" height=\"24px\" viewBox=\"0 -960 960 960\">\n",
              "    <path d=\"M120-120v-720h720v720H120Zm60-500h600v-160H180v160Zm220 220h160v-160H400v160Zm0 220h160v-160H400v160ZM180-400h160v-160H180v160Zm440 0h160v-160H620v160ZM180-180h160v-160H180v160Zm440 0h160v-160H620v160Z\"/>\n",
              "  </svg>\n",
              "    </button>\n",
              "\n",
              "  <style>\n",
              "    .colab-df-container {\n",
              "      display:flex;\n",
              "      gap: 12px;\n",
              "    }\n",
              "\n",
              "    .colab-df-convert {\n",
              "      background-color: #E8F0FE;\n",
              "      border: none;\n",
              "      border-radius: 50%;\n",
              "      cursor: pointer;\n",
              "      display: none;\n",
              "      fill: #1967D2;\n",
              "      height: 32px;\n",
              "      padding: 0 0 0 0;\n",
              "      width: 32px;\n",
              "    }\n",
              "\n",
              "    .colab-df-convert:hover {\n",
              "      background-color: #E2EBFA;\n",
              "      box-shadow: 0px 1px 2px rgba(60, 64, 67, 0.3), 0px 1px 3px 1px rgba(60, 64, 67, 0.15);\n",
              "      fill: #174EA6;\n",
              "    }\n",
              "\n",
              "    .colab-df-buttons div {\n",
              "      margin-bottom: 4px;\n",
              "    }\n",
              "\n",
              "    [theme=dark] .colab-df-convert {\n",
              "      background-color: #3B4455;\n",
              "      fill: #D2E3FC;\n",
              "    }\n",
              "\n",
              "    [theme=dark] .colab-df-convert:hover {\n",
              "      background-color: #434B5C;\n",
              "      box-shadow: 0px 1px 3px 1px rgba(0, 0, 0, 0.15);\n",
              "      filter: drop-shadow(0px 1px 2px rgba(0, 0, 0, 0.3));\n",
              "      fill: #FFFFFF;\n",
              "    }\n",
              "  </style>\n",
              "\n",
              "    <script>\n",
              "      const buttonEl =\n",
              "        document.querySelector('#df-914d807d-cfab-4383-97d8-d29e7186449b button.colab-df-convert');\n",
              "      buttonEl.style.display =\n",
              "        google.colab.kernel.accessAllowed ? 'block' : 'none';\n",
              "\n",
              "      async function convertToInteractive(key) {\n",
              "        const element = document.querySelector('#df-914d807d-cfab-4383-97d8-d29e7186449b');\n",
              "        const dataTable =\n",
              "          await google.colab.kernel.invokeFunction('convertToInteractive',\n",
              "                                                    [key], {});\n",
              "        if (!dataTable) return;\n",
              "\n",
              "        const docLinkHtml = 'Like what you see? Visit the ' +\n",
              "          '<a target=\"_blank\" href=https://colab.research.google.com/notebooks/data_table.ipynb>data table notebook</a>'\n",
              "          + ' to learn more about interactive tables.';\n",
              "        element.innerHTML = '';\n",
              "        dataTable['output_type'] = 'display_data';\n",
              "        await google.colab.output.renderOutput(dataTable, element);\n",
              "        const docLink = document.createElement('div');\n",
              "        docLink.innerHTML = docLinkHtml;\n",
              "        element.appendChild(docLink);\n",
              "      }\n",
              "    </script>\n",
              "  </div>\n",
              "\n",
              "\n",
              "<div id=\"df-64d3d91b-3a17-4271-9e5d-654b983deab3\">\n",
              "  <button class=\"colab-df-quickchart\" onclick=\"quickchart('df-64d3d91b-3a17-4271-9e5d-654b983deab3')\"\n",
              "            title=\"Suggest charts\"\n",
              "            style=\"display:none;\">\n",
              "\n",
              "<svg xmlns=\"http://www.w3.org/2000/svg\" height=\"24px\"viewBox=\"0 0 24 24\"\n",
              "     width=\"24px\">\n",
              "    <g>\n",
              "        <path d=\"M19 3H5c-1.1 0-2 .9-2 2v14c0 1.1.9 2 2 2h14c1.1 0 2-.9 2-2V5c0-1.1-.9-2-2-2zM9 17H7v-7h2v7zm4 0h-2V7h2v10zm4 0h-2v-4h2v4z\"/>\n",
              "    </g>\n",
              "</svg>\n",
              "  </button>\n",
              "\n",
              "<style>\n",
              "  .colab-df-quickchart {\n",
              "      --bg-color: #E8F0FE;\n",
              "      --fill-color: #1967D2;\n",
              "      --hover-bg-color: #E2EBFA;\n",
              "      --hover-fill-color: #174EA6;\n",
              "      --disabled-fill-color: #AAA;\n",
              "      --disabled-bg-color: #DDD;\n",
              "  }\n",
              "\n",
              "  [theme=dark] .colab-df-quickchart {\n",
              "      --bg-color: #3B4455;\n",
              "      --fill-color: #D2E3FC;\n",
              "      --hover-bg-color: #434B5C;\n",
              "      --hover-fill-color: #FFFFFF;\n",
              "      --disabled-bg-color: #3B4455;\n",
              "      --disabled-fill-color: #666;\n",
              "  }\n",
              "\n",
              "  .colab-df-quickchart {\n",
              "    background-color: var(--bg-color);\n",
              "    border: none;\n",
              "    border-radius: 50%;\n",
              "    cursor: pointer;\n",
              "    display: none;\n",
              "    fill: var(--fill-color);\n",
              "    height: 32px;\n",
              "    padding: 0;\n",
              "    width: 32px;\n",
              "  }\n",
              "\n",
              "  .colab-df-quickchart:hover {\n",
              "    background-color: var(--hover-bg-color);\n",
              "    box-shadow: 0 1px 2px rgba(60, 64, 67, 0.3), 0 1px 3px 1px rgba(60, 64, 67, 0.15);\n",
              "    fill: var(--button-hover-fill-color);\n",
              "  }\n",
              "\n",
              "  .colab-df-quickchart-complete:disabled,\n",
              "  .colab-df-quickchart-complete:disabled:hover {\n",
              "    background-color: var(--disabled-bg-color);\n",
              "    fill: var(--disabled-fill-color);\n",
              "    box-shadow: none;\n",
              "  }\n",
              "\n",
              "  .colab-df-spinner {\n",
              "    border: 2px solid var(--fill-color);\n",
              "    border-color: transparent;\n",
              "    border-bottom-color: var(--fill-color);\n",
              "    animation:\n",
              "      spin 1s steps(1) infinite;\n",
              "  }\n",
              "\n",
              "  @keyframes spin {\n",
              "    0% {\n",
              "      border-color: transparent;\n",
              "      border-bottom-color: var(--fill-color);\n",
              "      border-left-color: var(--fill-color);\n",
              "    }\n",
              "    20% {\n",
              "      border-color: transparent;\n",
              "      border-left-color: var(--fill-color);\n",
              "      border-top-color: var(--fill-color);\n",
              "    }\n",
              "    30% {\n",
              "      border-color: transparent;\n",
              "      border-left-color: var(--fill-color);\n",
              "      border-top-color: var(--fill-color);\n",
              "      border-right-color: var(--fill-color);\n",
              "    }\n",
              "    40% {\n",
              "      border-color: transparent;\n",
              "      border-right-color: var(--fill-color);\n",
              "      border-top-color: var(--fill-color);\n",
              "    }\n",
              "    60% {\n",
              "      border-color: transparent;\n",
              "      border-right-color: var(--fill-color);\n",
              "    }\n",
              "    80% {\n",
              "      border-color: transparent;\n",
              "      border-right-color: var(--fill-color);\n",
              "      border-bottom-color: var(--fill-color);\n",
              "    }\n",
              "    90% {\n",
              "      border-color: transparent;\n",
              "      border-bottom-color: var(--fill-color);\n",
              "    }\n",
              "  }\n",
              "</style>\n",
              "\n",
              "  <script>\n",
              "    async function quickchart(key) {\n",
              "      const quickchartButtonEl =\n",
              "        document.querySelector('#' + key + ' button');\n",
              "      quickchartButtonEl.disabled = true;  // To prevent multiple clicks.\n",
              "      quickchartButtonEl.classList.add('colab-df-spinner');\n",
              "      try {\n",
              "        const charts = await google.colab.kernel.invokeFunction(\n",
              "            'suggestCharts', [key], {});\n",
              "      } catch (error) {\n",
              "        console.error('Error during call to suggestCharts:', error);\n",
              "      }\n",
              "      quickchartButtonEl.classList.remove('colab-df-spinner');\n",
              "      quickchartButtonEl.classList.add('colab-df-quickchart-complete');\n",
              "    }\n",
              "    (() => {\n",
              "      let quickchartButtonEl =\n",
              "        document.querySelector('#df-64d3d91b-3a17-4271-9e5d-654b983deab3 button');\n",
              "      quickchartButtonEl.style.display =\n",
              "        google.colab.kernel.accessAllowed ? 'block' : 'none';\n",
              "    })();\n",
              "  </script>\n",
              "</div>\n",
              "\n",
              "    </div>\n",
              "  </div>\n"
            ],
            "application/vnd.google.colaboratory.intrinsic+json": {
              "type": "dataframe",
              "variable_name": "df_final",
              "summary": "{\n  \"name\": \"df_final\",\n  \"rows\": 20,\n  \"fields\": [\n    {\n      \"column\": \"Year\",\n      \"properties\": {\n        \"dtype\": \"number\",\n        \"std\": 5,\n        \"min\": 2003,\n        \"max\": 2022,\n        \"num_unique_values\": 20,\n        \"samples\": [\n          2003,\n          2020,\n          2018\n        ],\n        \"semantic_type\": \"\",\n        \"description\": \"\"\n      }\n    },\n    {\n      \"column\": \"Product label\",\n      \"properties\": {\n        \"dtype\": \"category\",\n        \"num_unique_values\": 1,\n        \"samples\": [\n          \"Fish and crustaceans, molluscs and other aquatic invertebrates\"\n        ],\n        \"semantic_type\": \"\",\n        \"description\": \"\"\n      }\n    },\n    {\n      \"column\": \"Exported Value\",\n      \"properties\": {\n        \"dtype\": \"number\",\n        \"std\": 0.254622077007177,\n        \"min\": 0.0,\n        \"max\": 1.0,\n        \"num_unique_values\": 20,\n        \"samples\": [\n          0.1252954974225739\n        ],\n        \"semantic_type\": \"\",\n        \"description\": \"\"\n      }\n    }\n  ]\n}"
            }
          },
          "metadata": {},
          "execution_count": 305
        }
      ]
    },
    {
      "cell_type": "code",
      "source": [
        "df_final.index"
      ],
      "metadata": {
        "colab": {
          "base_uri": "https://localhost:8080/"
        },
        "id": "nrvm8Fp8lu5O",
        "outputId": "b67840c2-65c4-403e-b59a-912980257dae"
      },
      "execution_count": 306,
      "outputs": [
        {
          "output_type": "execute_result",
          "data": {
            "text/plain": [
              "Index([2003, 2004, 2005, 2006, 2007, 2008, 2009, 2010, 2011, 2012, 2013, 2014,\n",
              "       2015, 2016, 2017, 2018, 2019, 2020, 2021, 2022],\n",
              "      dtype='int64', name='Year')"
            ]
          },
          "metadata": {},
          "execution_count": 306
        }
      ]
    },
    {
      "cell_type": "code",
      "source": [
        "# Diviser les données en 'train' et 'test' parties, en prenant comme année de séparation 2018.\n",
        "train_df = df_final[df_final.index <= 2020]\n",
        "test_df = df_final[df_final.index >= 2020]"
      ],
      "metadata": {
        "id": "Gq-5YmbS7HlW"
      },
      "execution_count": 307,
      "outputs": []
    },
    {
      "cell_type": "code",
      "source": [
        "print(train_df)"
      ],
      "metadata": {
        "colab": {
          "base_uri": "https://localhost:8080/"
        },
        "id": "5IL103J-7TgD",
        "outputId": "0becfe72-73c5-421c-ee0e-545da54c8735"
      },
      "execution_count": 308,
      "outputs": [
        {
          "output_type": "stream",
          "name": "stdout",
          "text": [
            "                                          Product label  Exported Value\n",
            "Year                                                                   \n",
            "2003  Fish and crustaceans, molluscs and other aquat...        0.125295\n",
            "2004  Fish and crustaceans, molluscs and other aquat...        0.000000\n",
            "2005  Fish and crustaceans, molluscs and other aquat...        0.137429\n",
            "2006  Fish and crustaceans, molluscs and other aquat...        0.197313\n",
            "2007  Fish and crustaceans, molluscs and other aquat...        0.324361\n",
            "2008  Fish and crustaceans, molluscs and other aquat...        0.408324\n",
            "2009  Fish and crustaceans, molluscs and other aquat...        0.267850\n",
            "2010  Fish and crustaceans, molluscs and other aquat...        0.241294\n",
            "2011  Fish and crustaceans, molluscs and other aquat...        0.337029\n",
            "2012  Fish and crustaceans, molluscs and other aquat...        0.347930\n",
            "2013  Fish and crustaceans, molluscs and other aquat...        0.402130\n",
            "2014  Fish and crustaceans, molluscs and other aquat...        0.431497\n",
            "2015  Fish and crustaceans, molluscs and other aquat...        0.466683\n",
            "2016  Fish and crustaceans, molluscs and other aquat...        0.588886\n",
            "2017  Fish and crustaceans, molluscs and other aquat...        0.657632\n",
            "2018  Fish and crustaceans, molluscs and other aquat...        0.695417\n",
            "2019  Fish and crustaceans, molluscs and other aquat...        0.582573\n",
            "2020  Fish and crustaceans, molluscs and other aquat...        0.610974\n"
          ]
        }
      ]
    },
    {
      "cell_type": "code",
      "source": [
        "print(test_df)"
      ],
      "metadata": {
        "colab": {
          "base_uri": "https://localhost:8080/"
        },
        "id": "iaIsko9V7VCi",
        "outputId": "b1528497-5951-4b11-fdf3-512f418e9f64"
      },
      "execution_count": 309,
      "outputs": [
        {
          "output_type": "stream",
          "name": "stdout",
          "text": [
            "                                          Product label  Exported Value\n",
            "Year                                                                   \n",
            "2020  Fish and crustaceans, molluscs and other aquat...        0.610974\n",
            "2021  Fish and crustaceans, molluscs and other aquat...        1.000000\n",
            "2022  Fish and crustaceans, molluscs and other aquat...        0.871932\n"
          ]
        }
      ]
    },
    {
      "cell_type": "code",
      "source": [
        "# Plot the data\n",
        "\n",
        "plt.figure(figsize=(12, 6))\n",
        "plt.plot(train_df.index, train_df['Exported Value'], 'b', label='Train') # Bleu\n",
        "plt.plot(test_df.index, test_df['Exported Value'], 'r', label='Test') # Rouge\n",
        "plt.xlabel('Year')\n",
        "plt.ylabel('Exported Value')\n",
        "plt.title('Exported Value Over Years for Fish and Crustaceans')\n",
        "plt.xticks(df_final.index, rotation=45)\n",
        "plt.legend()\n",
        "plt.show()"
      ],
      "metadata": {
        "colab": {
          "base_uri": "https://localhost:8080/",
          "height": 585
        },
        "id": "8U-ywRW57cR5",
        "outputId": "a916f7a4-8698-49b6-ffbd-9b6b6b6f4bba"
      },
      "execution_count": 310,
      "outputs": [
        {
          "output_type": "display_data",
          "data": {
            "text/plain": [
              "<Figure size 1200x600 with 1 Axes>"
            ],
            "image/png": "[encoded data removed]"
          },
          "metadata": {}
        }
      ]
    },
    {
      "cell_type": "code",
      "source": [
        "# Faire le test KPSS pour avoir une information sur la stationnarité des données\n",
        "from statsmodels.tsa.stattools import kpss\n",
        "\n",
        "kpss_result = kpss(df_final['Exported Value'], regression='c', nlags=\"auto\")\n",
        "print('\\nKPSS Statistic:', kpss_result[0])\n",
        "print('p-value:', kpss_result[1])\n",
        "print('Critical Values:')\n",
        "for key, value in kpss_result[3].items():\n",
        "    print(f'{key}: {value}')"
      ],
      "metadata": {
        "colab": {
          "base_uri": "https://localhost:8080/"
        },
        "id": "EOzr2lTI8KDV",
        "outputId": "ccd93cb4-e5d9-4e31-b109-1342130a05de"
      },
      "execution_count": 311,
      "outputs": [
        {
          "output_type": "stream",
          "name": "stdout",
          "text": [
            "\n",
            "KPSS Statistic: 0.7363599311293135\n",
            "p-value: 0.010240006260971497\n",
            "Critical Values:\n",
            "10%: 0.347\n",
            "5%: 0.463\n",
            "2.5%: 0.574\n",
            "1%: 0.739\n"
          ]
        }
      ]
    },
    {
      "cell_type": "code",
      "source": [
        "# Un autre test : ADF\n",
        "alpha = 0.05  # 5% est le seuil de significativité\n",
        "\n",
        "if kpss_result[1] <= alpha:\n",
        "    print(\"Reject the null hypothesis (H0) of the KPSS test. Thus, the data is not stationary.\")\n",
        "else:\n",
        "    print(\"Fail to reject the null hypothesis (H0) of the KPSS test. Thus, the data is stationary.\")"
      ],
      "metadata": {
        "colab": {
          "base_uri": "https://localhost:8080/"
        },
        "id": "nRVSZNzZ9410",
        "outputId": "9833a795-accc-4d57-c2c7-f54b4b6aa5cb"
      },
      "execution_count": 312,
      "outputs": [
        {
          "output_type": "stream",
          "name": "stdout",
          "text": [
            "Reject the null hypothesis (H0) of the KPSS test. Thus, the data is not stationary.\n"
          ]
        }
      ]
    },
    {
      "cell_type": "code",
      "source": [
        "# We have to go for ARIMA model as it will fit more for non-stationary data !!"
      ],
      "metadata": {
        "id": "R_95at1g97J4"
      },
      "execution_count": 313,
      "outputs": []
    },
    {
      "cell_type": "code",
      "source": [
        "pip install pmdarima # Il est nécessaire d'installer pmdarima en premier lieu !!"
      ],
      "metadata": {
        "colab": {
          "base_uri": "https://localhost:8080/"
        },
        "id": "IDjDV0lNA_5d",
        "outputId": "f3df30c1-48fe-4f23-cf12-8155eadb39e7"
      },
      "execution_count": null,
      "outputs": [
        {
          "output_type": "stream",
          "name": "stdout",
          "text": [
            "Requirement already satisfied: pmdarima in /usr/local/lib/python3.10/dist-packages (2.0.4)\n",
            "Requirement already satisfied: joblib>=0.11 in /usr/local/lib/python3.10/dist-packages (from pmdarima) (1.4.2)\n",
            "Requirement already satisfied: Cython!=0.29.18,!=0.29.31,>=0.29 in /usr/local/lib/python3.10/dist-packages (from pmdarima) (3.0.10)\n",
            "Requirement already satisfied: numpy>=1.21.2 in /usr/local/lib/python3.10/dist-packages (from pmdarima) (1.25.2)\n",
            "Requirement already satisfied: pandas>=0.19 in /usr/local/lib/python3.10/dist-packages (from pmdarima) (2.0.3)\n",
            "Requirement already satisfied: scikit-learn>=0.22 in /usr/local/lib/python3.10/dist-packages (from pmdarima) (1.2.2)\n",
            "Requirement already satisfied: scipy>=1.3.2 in /usr/local/lib/python3.10/dist-packages (from pmdarima) (1.11.4)\n",
            "Requirement already satisfied: statsmodels>=0.13.2 in /usr/local/lib/python3.10/dist-packages (from pmdarima) (0.14.2)\n",
            "Requirement already satisfied: urllib3 in /usr/local/lib/python3.10/dist-packages (from pmdarima) (2.0.7)\n",
            "Requirement already satisfied: setuptools!=50.0.0,>=38.6.0 in /usr/local/lib/python3.10/dist-packages (from pmdarima) (67.7.2)\n",
            "Requirement already satisfied: packaging>=17.1 in /usr/local/lib/python3.10/dist-packages (from pmdarima) (24.0)\n",
            "Requirement already satisfied: python-dateutil>=2.8.2 in /usr/local/lib/python3.10/dist-packages (from pandas>=0.19->pmdarima) (2.8.2)\n",
            "Requirement already satisfied: pytz>=2020.1 in /usr/local/lib/python3.10/dist-packages (from pandas>=0.19->pmdarima) (2023.4)\n",
            "Requirement already satisfied: tzdata>=2022.1 in /usr/local/lib/python3.10/dist-packages (from pandas>=0.19->pmdarima) (2024.1)\n",
            "Requirement already satisfied: threadpoolctl>=2.0.0 in /usr/local/lib/python3.10/dist-packages (from scikit-learn>=0.22->pmdarima) (3.5.0)\n",
            "Requirement already satisfied: patsy>=0.5.6 in /usr/local/lib/python3.10/dist-packages (from statsmodels>=0.13.2->pmdarima) (0.5.6)\n",
            "Requirement already satisfied: six in /usr/local/lib/python3.10/dist-packages (from patsy>=0.5.6->statsmodels>=0.13.2->pmdarima) (1.16.0)\n"
          ]
        }
      ]
    },
    {
      "cell_type": "code",
      "source": [
        "from pmdarima import auto_arima # auto_arima va nous informer sur les meilleures paramètres à choisir pour la prédiction...\n",
        "\n",
        "# Utiliser auto_arima pour trouver le meilleur modèle ARIMA avec une recherche exhaustive\n",
        "stepwise_fit = auto_arima(df_final['Exported Value'],\n",
        "                          start_p=0, max_p=10,  # Augmenter la plage de recherche pour p\n",
        "                          start_q=0, max_q=10,  # Augmenter la plage de recherche pour q\n",
        "                          start_d=0, max_d=10,\n",
        "                          d=None,  # auto_arima déterminera la meilleure valeur pour d\n",
        "                          seasonal=False,  # Ne pas inclure de composante saisonnière\n",
        "                          stepwise=False,  # Utiliser une recherche exhaustive\n",
        "                          trace=True,  # Afficher les résultats de chaque étape\n",
        "                          suppress_warnings=True,  # Supprimer les avertissements\n",
        "                          information_criterion='bic')  # Utiliser AIC pour la sélection du modèle"
      ],
      "metadata": {
        "id": "C9Z-OCx_Asdb"
      },
      "execution_count": null,
      "outputs": []
    },
    {
      "cell_type": "code",
      "source": [
        "# Afficher le résumé du modèle auto_arima\n",
        "print(stepwise_fit.summary())"
      ],
      "metadata": {
        "id": "qYxnmMvcXz0S"
      },
      "execution_count": null,
      "outputs": []
    },
    {
      "cell_type": "code",
      "source": [
        "# Train the ARIMA model using the best parameters found by auto_arima\n",
        "from statsmodels.tsa.arima.model import ARIMA\n",
        "\n",
        "model = ARIMA(train_df['Exported Value'], order=(6,1,2)) # (0, 1, O) est l'ordre qu'a proposé auto_arima, mais ca ne fait pas mieux que l'ordre (6, 1, 2).\n",
        "# Cela peut etre expliqué par le fait que auto-arima ne teste pas vraiment toutes les combinaisons possibles.\n",
        "model_fit = model.fit()\n",
        "print(model_fit.summary())"
      ],
      "metadata": {
        "id": "hNqhH8IIX2oy"
      },
      "execution_count": null,
      "outputs": []
    },
    {
      "cell_type": "code",
      "source": [
        "# Make forecasting for the test set\n",
        "predictions = model_fit.forecast(steps=len(test_df))"
      ],
      "metadata": {
        "id": "Iad6gAx-bBDA"
      },
      "execution_count": null,
      "outputs": []
    },
    {
      "cell_type": "code",
      "source": [
        "# Plot the original data, training data, test data, and the predictions\n",
        "plt.figure(figsize=(12, 6))\n",
        "plt.plot(df_final.index, df_final['Exported Value'], label='Original Data')\n",
        "plt.plot(train_df.index, train_df['Exported Value'], label='Train Data', color='blue')\n",
        "plt.plot(test_df.index, test_df['Exported Value'], label='Test Data', color='red')\n",
        "plt.plot(test_df.index, predictions, label='Predictions', color='green')\n",
        "plt.xlabel('Year')\n",
        "plt.ylabel('Exported Value')\n",
        "plt.title('Exported Value Over Years for Fish and Crustaceans with Test Predictions')\n",
        "plt.xticks(range(2003, 2023), rotation=45)\n",
        "plt.legend()\n",
        "plt.grid(True)\n",
        "plt.show()"
      ],
      "metadata": {
        "id": "R8svkuHfbITf"
      },
      "execution_count": null,
      "outputs": []
    },
    {
      "cell_type": "code",
      "source": [
        "# Calculate the RMSE (Root Mean Square Error)\n",
        "from sklearn.metrics import mean_squared_error\n",
        "from math import sqrt\n",
        "\n",
        "rmse = sqrt(mean_squared_error(test_df['Exported Value'], predictions))\n",
        "print(f'Root Mean Squared Error: {rmse}')"
      ],
      "metadata": {
        "id": "OnUPZ4lxxETO"
      },
      "execution_count": null,
      "outputs": []
    },
    {
      "cell_type": "code",
      "source": [
        "# Forecast future values up to 2030 (Prédire les valeurs d'ici 2030)\n",
        "forecast_steps = 2030 - 2022\n",
        "arima_full_forecast = model_fit.get_forecast(steps=forecast_steps)\n",
        "future_pred = arima_full_forecast.predicted_mean\n",
        "future_conf_int = arima_full_forecast.conf_int()\n",
        "\n",
        "future_index = pd.RangeIndex(start=2022, stop=2022 + forecast_steps, step=1)\n",
        "\n",
        "plt.figure(figsize=(12, 6))\n",
        "plt.plot(df_final.index, df_final['Exported Value'], label='Historical Exported Value')\n",
        "plt.plot(future_index, future_pred, label='Forecasted Exported Value', color='blue')\n",
        "plt.fill_between(future_index, future_conf_int.iloc[:, 0], future_conf_int.iloc[:, 1], color='blue', alpha=0.2)\n",
        "plt.xlabel('Year')\n",
        "plt.ylabel('Exported Value (Standardized)')\n",
        "plt.title('Forecasted Exported Value (2023-2030)')\n",
        "plt.legend()\n",
        "plt.show()"
      ],
      "metadata": {
        "id": "l1cj6DEpoeVK"
      },
      "execution_count": null,
      "outputs": []
    },
    {
      "cell_type": "code",
      "source": [
        "# Obtenir le maximum des valeurs prédites\n",
        "future_max_pred = future_conf_int.max(axis=1)\n",
        "\n",
        "future_index = pd.RangeIndex(start=2022, stop=2022 + forecast_steps, step=1)\n",
        "\n",
        "plt.figure(figsize=(12, 6))\n",
        "plt.plot(df_final.index, df_final['Exported Value'], label='Historical Exported Value')\n",
        "plt.plot(future_index, future_max_pred, label='Forecasted Exported Value', color='blue')\n",
        "plt.fill_between(future_index, future_conf_int.iloc[:, 0], future_conf_int.iloc[:, 1], color='blue', alpha=0.2)\n",
        "plt.xlabel('Year')\n",
        "plt.ylabel('Exported Value (Standardized)')\n",
        "plt.title('Forecasted Exported Value (2023-2030)')\n",
        "plt.legend()\n",
        "plt.show()"
      ],
      "metadata": {
        "id": "Qt5ouNzC8Tzs"
      },
      "execution_count": null,
      "outputs": []
    },
    {
      "cell_type": "code",
      "source": [
        "# On peut voir clairement que les valeurs des exportations de produits halieutiques tendent à augmenter au fil du temps\n",
        "# Alors, il serait judicieux de discuter des stratégies pour maintenir cette croissance et en bénéficier."
      ],
      "metadata": {
        "id": "GpDJ9p5FnmmZ"
      },
      "execution_count": null,
      "outputs": []
    }
  ]
}